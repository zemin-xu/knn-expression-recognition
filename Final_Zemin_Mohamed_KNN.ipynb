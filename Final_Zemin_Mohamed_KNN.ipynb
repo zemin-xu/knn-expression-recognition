{
 "nbformat": 4,
 "nbformat_minor": 0,
 "metadata": {
  "colab": {
   "name": "Final_Zemin_Mohamed_KNN.ipynb",
   "provenance": [],
   "collapsed_sections": []
  },
  "kernelspec": {
   "name": "python3",
   "language": "python",
   "display_name": "Python 3"
  },
  "accelerator": "GPU"
 },
 "cells": [
  {
   "cell_type": "code",
   "metadata": {
    "id": "aNSgc23-yDxx"
   },
   "source": [
    "import os\n",
    "import matplotlib.pyplot as plt\n",
    "from datetime import datetime\n",
    "import skimage.feature\n",
    "import numpy as np\n",
    "from skimage import feature\n",
    "from sklearn.neighbors import KNeighborsClassifier\n"
   ],
   "execution_count": 5,
   "outputs": []
  },
  {
   "cell_type": "code",
   "metadata": {
    "colab": {
     "base_uri": "https://localhost:8080/",
     "height": 195
    },
    "id": "lgPAETnKyD9w",
    "outputId": "79073e9b-b309-4116-f1a0-0db90e1bef5a"
   },
   "source": [
    "path=\"TD4-database/train/\"\n",
    "folders=os.listdir(path)\n",
    "print(folders)"
   ],
   "execution_count": 6,
   "outputs": [
    {
     "name": "stdout",
     "output_type": "stream",
     "text": [
      "['angry', 'disgust', 'fear', 'happy', 'neutral', 'sad', 'surprise']\n"
     ]
    }
   ]
  },
  {
   "cell_type": "code",
   "metadata": {
    "id": "L8UAxMn5yEAH"
   },
   "source": [
    "#lets create a local binary pattern class\n",
    "\n",
    "class LBP:\n",
    "  def __init__(self, P, R, image):\n",
    "    self.P = P\n",
    "    self.R = R\n",
    "    self.image = image\n",
    "\n",
    "  def get_histogram(self):\n",
    "    # Create the Local Binary Pattern object and get the histogram of it\n",
    "    lbp = feature.local_binary_pattern(self.image, self.P, self.R, method=\"var\")\n",
    "    (histogram, _) = np.histogram(lbp.ravel(), bins=np.arange(0, self.P + 3), range=(0, self.P + 2))\n",
    "    histogram = histogram.astype(\"float\")\n",
    "    histogram /= (histogram.sum() + 0.000001) # to avoid devision by zero add a small value (0.000001)\n",
    "    \n",
    "    return histogram"
   ],
   "execution_count": 7,
   "outputs": []
  },
  {
   "cell_type": "code",
   "metadata": {
    "id": "KeQZJuBOyECX"
   },
   "source": [
    "now = datetime.now()\n",
    "current_time = now.strftime(\"%H:%M:%S\")\n",
    "print(\"Current Time =\", current_time)\n",
    "\n",
    "P = 8\n",
    "R = 1\n",
    "\n",
    "lable_list=[] # save the emotion lable  [0 'angry', 1'disgust', 2'fear', 3'happy', 4'neutral', 5'sad', 6'surprise']\n",
    "imgs=[] #save the imamges\n",
    "for i in range(len(folders)-5):\n",
    "    path_emotion=path+folders[i]\n",
    "    filenames=sorted(os.listdir(path_emotion))      \n",
    "    for j in range(len(filenames)-5):\n",
    "        lable_list.append(i)\n",
    "        img = plt.imread(path_emotion+\"/\"+filenames[j])\n",
    "        histogram = LBP(P, R, img).get_histogram()\n",
    "        imgs.append(histogram)\n",
    "now = datetime.now()\n",
    "current_time = now.strftime(\"%H:%M:%S\")\n",
    "print(\"Current Time =\", current_time)"
   ],
   "execution_count": 8,
   "outputs": [
    {
     "name": "stdout",
     "output_type": "stream",
     "text": [
      "Current Time = 21:42:59\n",
      "Current Time = 21:43:23\n"
     ]
    }
   ]
  },
  {
   "cell_type": "code",
   "metadata": {
    "id": "8HC8VmUxC_N2"
   },
   "source": [
    "path_test=\"TD4-database/test/\"\n",
    "folders_test=os.listdir(path_test)\n",
    "print(folders_test)"
   ],
   "execution_count": 9,
   "outputs": [
    {
     "name": "stdout",
     "output_type": "stream",
     "text": [
      "['angry', 'disgust', 'fear', 'happy', 'neutral', 'sad', 'surprise']\n"
     ]
    }
   ]
  },
  {
   "cell_type": "code",
   "metadata": {
    "id": "AovmVdLEyEE6"
   },
   "source": [
    "now = datetime.now()\n",
    "current_time = now.strftime(\"%H:%M:%S\")\n",
    "print(\"Current Time =\", current_time)\n",
    "\n",
    "lable_list_test=[] # save the emotion lable  [0 'angry', 1'disgust', 2'fear', 3'happy', 4'neutral', 5'sad', 6'surprise']\n",
    "imgs_test=[] #save the imamges\n",
    "\n",
    "for i in range(len(folders_test)-5):\n",
    "    path_emotion=path_test+folders_test[i]\n",
    "    filenames=sorted(os.listdir(path_emotion))      \n",
    "    for j in range(len(filenames)-5):\n",
    "        lable_list_test.append(i)\n",
    "        img_=plt.imread(path_emotion+\"/\"+filenames[j])\n",
    "        histogram = LBP(P, R, img_).get_histogram()\n",
    "        imgs_test.append(histogram)\n",
    "\n",
    "now = datetime.now()\n",
    "current_time = now.strftime(\"%H:%M:%S\")\n",
    "print(\"Current Time =\", current_time)"
   ],
   "execution_count": 10,
   "outputs": [
    {
     "name": "stdout",
     "output_type": "stream",
     "text": [
      "Current Time = 21:43:54\n",
      "Current Time = 21:44:00\n"
     ]
    }
   ]
  },
  {
   "cell_type": "code",
   "metadata": {
    "id": "yAKENL9qyEHp"
   },
   "source": [
    "# convert list to numpy array\n",
    "imgs = np.array(imgs)\n",
    "imgs_test = np.array(imgs_test)\n",
    "\n",
    "lable_list = np.array(lable_list)\n",
    "lable_list_test = np.array(lable_list_test)"
   ],
   "execution_count": 11,
   "outputs": []
  },
  {
   "cell_type": "code",
   "metadata": {
    "id": "JYpOymGcDpUM"
   },
   "source": [
    "# lets use KNN neighbour classifier with 3 neighors\n",
    "neigh = KNeighborsClassifier(n_neighbors=3)\n",
    "# lets fit the model\n",
    "neigh.fit(imgs, lable_list) "
   ],
   "execution_count": 12,
   "outputs": [
    {
     "data": {
      "text/plain": "KNeighborsClassifier(algorithm='auto', leaf_size=30, metric='minkowski',\n                     metric_params=None, n_jobs=None, n_neighbors=3, p=2,\n                     weights='uniform')"
     },
     "execution_count": 12,
     "metadata": {},
     "output_type": "execute_result"
    }
   ]
  },
  {
   "cell_type": "code",
   "metadata": {
    "id": "gLbre-x_DpjQ"
   },
   "source": [
    "neigh.score(imgs_test, lable_list_test, sample_weight=None)"
   ],
   "execution_count": 13,
   "outputs": [
    {
     "data": {
      "text/plain": "0.8885741265344664"
     },
     "execution_count": 13,
     "metadata": {},
     "output_type": "execute_result"
    }
   ]
  },
  {
   "cell_type": "code",
   "metadata": {
    "id": "1SXgyhwfOLT3"
   },
   "source": [
    ""
   ],
   "execution_count": null,
   "outputs": []
  }
 ]
}