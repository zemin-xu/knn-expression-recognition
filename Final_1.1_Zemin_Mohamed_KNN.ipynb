{
 "nbformat": 4,
 "nbformat_minor": 0,
 "metadata": {
  "colab": {
   "name": "Final_1.1_Zemin_Mohamed_KNN.ipynb",
   "provenance": [],
   "collapsed_sections": []
  },
  "kernelspec": {
   "name": "python3",
   "language": "python",
   "display_name": "Python 3"
  },
  "accelerator": "GPU"
 },
 "cells": [
  {
   "cell_type": "code",
   "metadata": {
    "id": "yhoNauREyD7p"
   },
   "source": [
    "import os\n",
    "import math\n",
    "import statistics\n",
    "import matplotlib.pyplot as plt\n",
    "from datetime import datetime\n",
    "import numpy as np\n",
    "import skimage.feature\n",
    "from skimage import feature\n",
    "from sklearn.neighbors import KNeighborsClassifier\n",
    "from sklearn.model_selection import GridSearchCV\n",
    "from sklearn.metrics import r2_score\n",
    "from sklearn.svm import SVC\n",
    "from sklearn.ensemble import RandomForestClassifier\n",
    "import xgboost as xgb\n",
    "\n"
   ],
   "execution_count": 1,
   "outputs": []
  },
  {
   "cell_type": "code",
   "metadata": {
    "colab": {
     "base_uri": "https://localhost:8080/"
    },
    "id": "lgPAETnKyD9w",
    "executionInfo": {
     "status": "ok",
     "timestamp": 1606615045759,
     "user_tz": -60,
     "elapsed": 1116,
     "user": {
      "displayName": "iTube Physics",
      "photoUrl": "https://lh3.googleusercontent.com/a-/AOh14GgSuZqB-E1xXvc_BwGK6BJF4NcuD1fhrRXjk7MIng=s64",
      "userId": "08947113868138048128"
     }
    },
    "outputId": "fafe36d8-bc6e-4997-a032-d2c24556c874"
   },
   "source": [
    "path=\"TD4-database/train/\"\n",
    "folders=os.listdir(path)\n",
    "print(folders)"
   ],
   "execution_count": 2,
   "outputs": [
    {
     "name": "stdout",
     "output_type": "stream",
     "text": [
      "['angry', 'disgust', 'fear', 'happy', 'neutral', 'sad', 'surprise']\n"
     ]
    }
   ]
  },
  {
   "cell_type": "code",
   "metadata": {
    "id": "L8UAxMn5yEAH"
   },
   "source": [
    "#lets create a local binary pattern class\n",
    "\n",
    "class LBP:\n",
    "  def __init__(self, P, R, image):\n",
    "    self.P = P\n",
    "    self.R = R\n",
    "    self.image = image\n",
    "\n",
    "  def get_histogram(self):\n",
    "    # Create the Local Binary Pattern object and get the histogram of it\n",
    "    lbp = feature.local_binary_pattern(self.image, self.P, self.R, method=\"uniform\")\n",
    "    (histogram, _) = np.histogram(lbp.ravel(), bins=np.arange(0, self.P + 3), range=(0, self.P + 2))\n",
    "    histogram = histogram.astype(\"float\")\n",
    "    #histogram /= (histogram.sum() + 0.000001) # to avoid devision by zero add a small value (0.000001)\n",
    "    \n",
    "    return histogram"
   ],
   "execution_count": 3,
   "outputs": []
  },
  {
   "cell_type": "code",
   "metadata": {
    "id": "KeQZJuBOyECX",
    "colab": {
     "base_uri": "https://localhost:8080/"
    },
    "executionInfo": {
     "status": "ok",
     "timestamp": 1606615115431,
     "user_tz": -60,
     "elapsed": 70783,
     "user": {
      "displayName": "iTube Physics",
      "photoUrl": "https://lh3.googleusercontent.com/a-/AOh14GgSuZqB-E1xXvc_BwGK6BJF4NcuD1fhrRXjk7MIng=s64",
      "userId": "08947113868138048128"
     }
    },
    "outputId": "86252c5a-29cf-4153-e84b-24f4e093a8c0"
   },
   "source": [
    "now = datetime.now()\n",
    "current_time = now.strftime(\"%H:%M:%S\")\n",
    "print(\"Current Time =\", current_time)\n",
    "\n",
    "\n",
    "R = 4\n",
    "P = 8*R\n",
    "\n",
    "lable_list_train=[] # save the emotion lable  [0 'angry', 1'disgust', 2'fear', 3'happy', 4'neutral', 5'sad', 6'surprise']\n",
    "imgs_train=[] #save the imamges\n",
    "for i in range(len(folders)):\n",
    "    path_emotion=path+folders[i]\n",
    "    filenames=sorted(os.listdir(path_emotion))      \n",
    "    for j in range(len(filenames)):\n",
    "        lable_list_train.append(i)\n",
    "        img = plt.imread(path_emotion+\"/\"+filenames[j])\n",
    "        histogram = LBP(P, R, img).get_histogram()\n",
    "        imgs_train.append(histogram)\n",
    "now = datetime.now()\n",
    "current_time = now.strftime(\"%H:%M:%S\")\n",
    "print(\"Current Time =\", current_time)"
   ],
   "execution_count": 4,
   "outputs": [
    {
     "name": "stdout",
     "output_type": "stream",
     "text": [
      "Current Time = 22:25:39\n",
      "Current Time = 22:27:15\n"
     ]
    }
   ]
  },
  {
   "cell_type": "code",
   "metadata": {
    "id": "8HC8VmUxC_N2",
    "colab": {
     "base_uri": "https://localhost:8080/"
    },
    "executionInfo": {
     "status": "ok",
     "timestamp": 1606615115434,
     "user_tz": -60,
     "elapsed": 70782,
     "user": {
      "displayName": "iTube Physics",
      "photoUrl": "https://lh3.googleusercontent.com/a-/AOh14GgSuZqB-E1xXvc_BwGK6BJF4NcuD1fhrRXjk7MIng=s64",
      "userId": "08947113868138048128"
     }
    },
    "outputId": "18fe5f30-abf1-494a-e28a-cc1440946842"
   },
   "source": [
    "path_test=\"TD4-database/test/\"\n",
    "folders_test=os.listdir(path_test)\n",
    "print(folders_test)"
   ],
   "execution_count": 5,
   "outputs": [
    {
     "name": "stdout",
     "output_type": "stream",
     "text": [
      "['angry', 'disgust', 'fear', 'happy', 'neutral', 'sad', 'surprise']\n"
     ]
    }
   ]
  },
  {
   "cell_type": "code",
   "metadata": {
    "id": "AovmVdLEyEE6",
    "colab": {
     "base_uri": "https://localhost:8080/"
    },
    "executionInfo": {
     "status": "ok",
     "timestamp": 1606615132618,
     "user_tz": -60,
     "elapsed": 87961,
     "user": {
      "displayName": "iTube Physics",
      "photoUrl": "https://lh3.googleusercontent.com/a-/AOh14GgSuZqB-E1xXvc_BwGK6BJF4NcuD1fhrRXjk7MIng=s64",
      "userId": "08947113868138048128"
     }
    },
    "outputId": "e5d76c19-a424-4f0a-85a7-763639f1df5e"
   },
   "source": [
    "now = datetime.now()\n",
    "current_time = now.strftime(\"%H:%M:%S\")\n",
    "print(\"Current Time =\", current_time)\n",
    "\n",
    "lable_list_test=[] # save the emotion lable  [0 'angry', 1'disgust', 2'fear', 3'happy', 4'neutral', 5'sad', 6'surprise']\n",
    "imgs_test=[] #save the imamges\n",
    "\n",
    "for i in range(len(folders_test)):\n",
    "    path_emotion=path_test+folders_test[i]\n",
    "    filenames=sorted(os.listdir(path_emotion))      \n",
    "    for j in range(len(filenames)):\n",
    "        lable_list_test.append(i)\n",
    "        img_=plt.imread(path_emotion+\"/\"+filenames[j])\n",
    "        histogram = LBP(P, R, img_).get_histogram()\n",
    "        imgs_test.append(histogram)\n",
    "\n",
    "now = datetime.now()\n",
    "current_time = now.strftime(\"%H:%M:%S\")\n",
    "print(\"Current Time =\", current_time)"
   ],
   "execution_count": 6,
   "outputs": [
    {
     "name": "stdout",
     "output_type": "stream",
     "text": [
      "Current Time = 22:27:15\n",
      "Current Time = 22:27:37\n"
     ]
    }
   ]
  },
  {
   "cell_type": "code",
   "metadata": {
    "id": "yAKENL9qyEHp"
   },
   "source": [
    "# convert list to numpy array\n",
    "imgs_train = np.array(imgs_train, dtype=np.float32)\n",
    "imgs_test = np.array(imgs_test, dtype=np.float32)\n",
    "\n",
    "lable_list_train = np.array(lable_list_train, dtype=np.float32)\n",
    "lable_list_test = np.array(lable_list_test, dtype=np.float32)"
   ],
   "execution_count": 7,
   "outputs": []
  },
  {
   "cell_type": "code",
   "metadata": {
    "id": "mvFPtM9UU8kW"
   },
   "source": [
    "np.save('imgs_train.npy', imgs_train) \n",
    "np.save('imgs_test.npy', imgs_test) \n",
    "\n",
    "np.save('lable_list_train.npy', lable_list_train) \n",
    "np.save('lable_list_test.npy', lable_list_test) "
   ],
   "execution_count": 8,
   "outputs": []
  },
  {
   "cell_type": "code",
   "metadata": {
    "id": "PzFm18tVWEIO"
   },
   "source": [
    "imgs_train = np.load('imgs_train.npy')\n",
    "imgs_test = np.load('imgs_test.npy')\n",
    "\n",
    "lable_list_train = np.load('lable_list_train.npy')\n",
    "lable_list_test = np.load('lable_list_test.npy')"
   ],
   "execution_count": 9,
   "outputs": []
  },
  {
   "cell_type": "code",
   "metadata": {
    "colab": {
     "base_uri": "https://localhost:8080/"
    },
    "id": "pvHEXcRGWOLm",
    "executionInfo": {
     "status": "ok",
     "timestamp": 1606615132621,
     "user_tz": -60,
     "elapsed": 87953,
     "user": {
      "displayName": "iTube Physics",
      "photoUrl": "https://lh3.googleusercontent.com/a-/AOh14GgSuZqB-E1xXvc_BwGK6BJF4NcuD1fhrRXjk7MIng=s64",
      "userId": "08947113868138048128"
     }
    },
    "outputId": "770b63bf-c964-4ba9-8ea1-4536e15abb71"
   },
   "source": [
    "imgs_train"
   ],
   "execution_count": 10,
   "outputs": [
    {
     "data": {
      "text/plain": "array([[ 121.,   62.,   37., ...,   45.,   53., 1028.],\n       [ 119.,   36.,   44., ...,   35.,   64., 1119.],\n       [   0.,    0.,    0., ...,    0., 2304.,    0.],\n       ...,\n       [ 125.,   54.,   36., ...,   31.,   79.,  963.],\n       [ 140.,   65.,   51., ...,   39.,   60., 1194.],\n       [ 117.,   54.,   66., ...,   27.,   70., 1201.]], dtype=float32)"
     },
     "execution_count": 10,
     "metadata": {},
     "output_type": "execute_result"
    }
   ]
  },
  {
   "cell_type": "code",
   "metadata": {
    "colab": {
     "base_uri": "https://localhost:8080/"
    },
    "id": "Hk6xpuMZaGXb",
    "executionInfo": {
     "status": "ok",
     "timestamp": 1606615132622,
     "user_tz": -60,
     "elapsed": 87950,
     "user": {
      "displayName": "iTube Physics",
      "photoUrl": "https://lh3.googleusercontent.com/a-/AOh14GgSuZqB-E1xXvc_BwGK6BJF4NcuD1fhrRXjk7MIng=s64",
      "userId": "08947113868138048128"
     }
    },
    "outputId": "888adb66-d95d-43a6-c77a-35c044d4a4f0"
   },
   "source": [
    "imgs_test"
   ],
   "execution_count": 11,
   "outputs": [
    {
     "data": {
      "text/plain": "array([[  97.,   52.,   59., ...,   37.,   61., 1021.],\n       [ 128.,   50.,   43., ...,   30.,   50., 1085.],\n       [  93.,   25.,   40., ...,   21.,   51.,  581.],\n       ...,\n       [ 130.,   60.,   70., ...,   10.,   59., 1062.],\n       [  89.,   45.,   31., ...,   15.,   48.,  827.],\n       [ 111.,   47.,   39., ...,   21.,   70., 1120.]], dtype=float32)"
     },
     "execution_count": 11,
     "metadata": {},
     "output_type": "execute_result"
    }
   ]
  },
  {
   "cell_type": "code",
   "metadata": {
    "id": "JYpOymGcDpUM"
   },
   "source": [
    "# # lets use KNN neighbour classifier with 3 neighors\n",
    "# neigh = KNeighborsClassifier(n_neighbors=3)\n",
    "# # lets fit the model\n",
    "# neigh.fit(imgs, lable_list) "
   ],
   "execution_count": 12,
   "outputs": []
  },
  {
   "cell_type": "code",
   "metadata": {
    "id": "ErCEYotvWTUj",
    "pycharm": {
     "is_executing": true
    }
   },
   "source": [
    "def Grid_Search_CV_KNN(imgs, lable_list):\n",
    "    estimator = KNeighborsClassifier()\n",
    "\n",
    "    parameters = {'n_neighbors': [10, 20, 30, 40, 50],\n",
    "              'weights': ['uniform', 'distance'],\n",
    "               'algorithm': ['auto', 'ball_tree'],\n",
    "              'p': [1, 2],\n",
    "               }\n",
    "\n",
    "    grid = GridSearchCV(estimator, parameters, n_jobs=-1, cv=5)\n",
    "\n",
    "    grid.fit(imgs, lable_list)\n",
    "\n",
    "    return grid.best_score_ , grid.best_params_\n",
    "\n",
    "def KNN(imgs_train, imgs_test, lable_list_train, lable_list_test, best_params):\n",
    "    estimator = KNeighborsClassifier(n_jobs=-1).set_params(**best_params)\n",
    "    estimator.fit(imgs_train,lable_list_train)\n",
    "    y_predict = estimator.predict(imgs_test)\n",
    "    return lable_list_test,y_predict\n",
    "\n",
    "RMSE = []\n",
    "R2 = []\n",
    "BEST_SCORE = []\n",
    "for i in range(2):\n",
    "    print (\"iteration: \" , i)\n",
    "    print (\"---------------\")\n",
    "    best_score, best_params = Grid_Search_CV_KNN(imgs_train, lable_list_train)\n",
    "    lable_list_test,y_predict = KNN(imgs_train, imgs_test, lable_list_train, lable_list_test, best_params)\n",
    "    rmse = math.sqrt(np.mean((y_predict - lable_list_test) ** 2))\n",
    "    r2 = r2_score(lable_list_test,y_predict)\n",
    "    RMSE.append(round(rmse, 5))\n",
    "    R2.append(round(r2, 5))\n",
    "    BEST_SCORE.append(round(best_score, 5))\n",
    "\n",
    "    print (\"Best Score:\" ,best_score)\n",
    "    print (\"Best params:\",best_params)\n",
    "\n",
    "print(\"Average RMSE: \", statistics.mean(RMSE))\n",
    "print(\"Average R2: \", statistics.mean(R2))\n",
    "print(\"Average BEST_SCORE: \", statistics.mean(BEST_SCORE))"
   ],
   "execution_count": null,
   "outputs": [
    {
     "name": "stdout",
     "output_type": "stream",
     "text": [
      "iteration:  0\n",
      "---------------\n",
      "Best Score: 0.32571688086166517\n",
      "Best params: {'algorithm': 'auto', 'n_neighbors': 50, 'p': 1, 'weights': 'distance'}\n",
      "iteration:  1\n",
      "---------------\n"
     ]
    }
   ]
  },
  {
   "cell_type": "code",
   "execution_count": null,
   "outputs": [],
   "source": [
    "#\n",
    "#def Grid_Search_CV_XGB(X_train, y_train):\n",
    "#    estimator = xgb.XGBClassifier()\n",
    "#\n",
    "#    parameters = {'n_estimators': [200],\n",
    "#              'learning_rate': [0.1],\n",
    "#               'gamma': [0],\n",
    "#              'max_depth': [7],\n",
    "#              'subsample': [0.75],\n",
    "#              'colsample_bytree': [1],\n",
    "#              'booster': ['gbtree', 'dart'],\n",
    "#             }\n",
    "#\n",
    "#    grid = GridSearchCV(estimator, parameters, n_jobs=-1, cv=40)\n",
    "#\n",
    "#    grid.fit(X_train, y_train)\n",
    "#\n",
    "#    return grid.best_score_ , grid.best_params_\n",
    "#\n",
    "#def XGB(X_train, X_test, y_train, y_test, best_params):\n",
    "#    estimator = xgb.XGBClassifier(n_jobs=-1).set_params(**best_params)\n",
    "#    estimator.fit(X_train,y_train)\n",
    "#    y_predict = estimator.predict(X_test)\n",
    "#    return y_test,y_predict\n",
    "#\n",
    "#\n",
    "#RMSE = []\n",
    "#R2 = []\n",
    "#BEST_SCORE = []\n",
    "#for i in range(2):\n",
    "#    print (\"iteration: \" , i)\n",
    "#    print (\"---------------\")\n",
    "#    best_score, best_params = Grid_Search_CV_XGB(imgs_train, lable_list_train)\n",
    "#    lable_list_test,y_predict = XGB(imgs_train, imgs_test, lable_list_train, lable_list_test, best_params)\n",
    "#    rmse = math.sqrt(np.mean((y_predict - lable_list_test) ** 2))\n",
    "#    r2 = r2_score(lable_list_test,y_predict)\n",
    "#    RMSE.append(round(rmse, 5))\n",
    "#    R2.append(round(r2, 5))\n",
    "#    BEST_SCORE.append(round(best_score, 5))\n",
    "#\n",
    "#    print (\"Best Score:\" ,best_score)\n",
    "#    print (\"Best params:\",best_params)\n",
    "#\n",
    "#print(\"Average RMSE: \", statistics.mean(RMSE))\n",
    "#print(\"Average R2: \", statistics.mean(R2))\n",
    "#print(\"Average BEST_SCORE: \", statistics.mean(BEST_SCORE))\n",
    "#\n",
    "#"
   ],
   "metadata": {
    "collapsed": false,
    "pycharm": {
     "name": "#%%\n",
     "is_executing": true
    }
   }
  },
  {
   "cell_type": "code",
   "metadata": {
    "id": "sIwlei25AH-H",
    "pycharm": {
     "is_executing": true
    }
   },
   "source": [
    "#Test Random Forest\n",
    "def Grid_Search_CV_RFR(imgs, lable_list):\n",
    "\n",
    "    estimator = RandomForestClassifier()\n",
    "    param_grid = { \n",
    "            \"n_estimators\"      : [50,100],\n",
    "            \"criterion\"         : ['gini', 'entropy'],\n",
    "            \"max_features\"      : [\"sqrt\", 'auto'],\n",
    "            \"min_samples_split\" : [8],\n",
    "            \"bootstrap\"         : [False, True],\n",
    "            }\n",
    "\n",
    "    grid = GridSearchCV(estimator, param_grid, n_jobs=-1, cv=10)\n",
    "\n",
    "    grid.fit(imgs, lable_list)\n",
    "\n",
    "    return grid.best_score_ , grid.best_params_\n",
    "\n",
    "def RFR(imgs_train, imgs_test, lable_list_train, lable_list_test, best_params):\n",
    "    estimator = RandomForestClassifier(n_jobs=-1).set_params(**best_params)\n",
    "    estimator.fit(imgs_train,lable_list_train)\n",
    "    y_predict = estimator.predict(imgs_test)\n",
    "    return lable_list_test,y_predict\n",
    "\n",
    "RMSE = []\n",
    "R2 = []\n",
    "BEST_SCORE = []\n",
    "for i in range(2):\n",
    "    print (\"iteration: \" , i)\n",
    "    print (\"---------------\")\n",
    "    best_score, best_params = Grid_Search_CV_RFR(imgs_train, lable_list_train)\n",
    "    lable_list_test,y_predict = RFR(imgs_train, imgs_test, lable_list_train, lable_list_test, best_params)\n",
    "    rmse = math.sqrt(np.mean((y_predict - lable_list_test) ** 2))\n",
    "    r2 = r2_score(lable_list_test,y_predict)\n",
    "    RMSE.append(round(rmse, 5))\n",
    "    R2.append(round(r2, 5))\n",
    "    BEST_SCORE.append(round(best_score, 5))\n",
    "\n",
    "    print (\"Best Score:\" ,best_score)\n",
    "    print (\"Best params:\",best_params)\n",
    "\n",
    "print(\"Average RMSE: \", statistics.mean(RMSE))\n",
    "print(\"Average R2: \", statistics.mean(R2))\n",
    "print(\"Average BEST_SCORE: \", statistics.mean(BEST_SCORE))"
   ],
   "execution_count": null,
   "outputs": []
  }
 ]
}